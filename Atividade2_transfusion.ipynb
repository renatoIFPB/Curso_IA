{
  "nbformat": 4,
  "nbformat_minor": 0,
  "metadata": {
    "colab": {
      "provenance": [],
      "authorship_tag": "ABX9TyMvgQTRTa0nEnkodTxT3ei+",
      "include_colab_link": true
    },
    "kernelspec": {
      "name": "python3",
      "display_name": "Python 3"
    },
    "language_info": {
      "name": "python"
    }
  },
  "cells": [
    {
      "cell_type": "markdown",
      "metadata": {
        "id": "view-in-github",
        "colab_type": "text"
      },
      "source": [
        "<a href=\"https://colab.research.google.com/github/renatoIFPB/Curso_IA/blob/main/Atividade2_transfusion.ipynb\" target=\"_parent\"><img src=\"https://colab.research.google.com/assets/colab-badge.svg\" alt=\"Open In Colab\"/></a>"
      ]
    },
    {
      "cell_type": "code",
      "execution_count": 4,
      "metadata": {
        "id": "LaEp64AuxXHQ"
      },
      "outputs": [],
      "source": [
        "from sklearn.model_selection import train_test_split\n",
        "from sklearn import metrics\n",
        "\n",
        "import pandas as pd\n",
        "\n",
        "url = \"https://raw.githubusercontent.com/tmoura/machinelearning/master/transfusion.data\"\n",
        "\n",
        "dataset = pd.read_csv(url, header=None)\n",
        "\n",
        "columns = len(dataset.columns)\n",
        "\n",
        "y = dataset[0] # extrai a primeira coluna, que é o label\n",
        "X = dataset.loc[:,1:columns-1]"
      ]
    },
    {
      "cell_type": "code",
      "source": [
        "X_train, X_test, y_train, y_test = train_test_split(X, y, test_size=0.2, random_state=None, stratify=y)"
      ],
      "metadata": {
        "id": "SY39zkySyUYZ"
      },
      "execution_count": 8,
      "outputs": []
    },
    {
      "cell_type": "code",
      "source": [
        "from sklearn import tree\n",
        "from sklearn.neighbors import KNeighborsClassifier\n",
        "\n",
        "model1 = tree.DecisionTreeClassifier(criterion=\"entropy\", max_depth=2)\n",
        "model1 = model1.fit(X_train, y_train)\n",
        "\n",
        "model2 = tree.DecisionTreeClassifier()\n",
        "model2 = model2.fit(X_train, y_train)\n",
        "\n",
        "model3 = KNeighborsClassifier(n_neighbors=3, metric='euclidean', algorithm='brute')\n",
        "model3 = model3.fit(X_train, y_train)\n",
        "\n",
        "model4 = KNeighborsClassifier(n_neighbors=7, metric='euclidean', algorithm='brute')\n",
        "model4 = model4.fit(X_train, y_train)"
      ],
      "metadata": {
        "id": "8-d_22B_yWzh"
      },
      "execution_count": 9,
      "outputs": []
    },
    {
      "cell_type": "code",
      "source": [
        "result1 = model1.predict(X_test)\n",
        "acc1 = metrics.accuracy_score(result1, y_test)\n",
        "show1 = round(acc1 * 100)\n",
        "print(\"{}%\".format(show1))\n",
        "\n",
        "result2 = model2.predict(X_test)\n",
        "acc2 = metrics.accuracy_score(result2, y_test)\n",
        "show2 = round(acc2 * 100)\n",
        "print(\"{}%\".format(show2))\n",
        "\n",
        "result3 = model3.predict(X_test)\n",
        "acc3 = metrics.accuracy_score(result3, y_test)\n",
        "show3 = round(acc3 * 100)\n",
        "print(\"{}%\".format(show3))\n",
        "\n",
        "result4 = model4.predict(X_test)\n",
        "acc4 = metrics.accuracy_score(result4, y_test)\n",
        "show4 = round(acc4 * 100)\n",
        "print(\"{}%\".format(show4))"
      ],
      "metadata": {
        "colab": {
          "base_uri": "https://localhost:8080/"
        },
        "id": "o9voBOMpyc_q",
        "outputId": "3dce4022-2702-444f-cf96-8bc8e52a4fc5"
      },
      "execution_count": 10,
      "outputs": [
        {
          "output_type": "stream",
          "name": "stdout",
          "text": [
            "76%\n",
            "69%\n",
            "76%\n",
            "73%\n"
          ]
        }
      ]
    }
  ]
}