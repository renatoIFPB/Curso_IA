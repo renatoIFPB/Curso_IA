{
  "nbformat": 4,
  "nbformat_minor": 0,
  "metadata": {
    "colab": {
      "provenance": [],
      "authorship_tag": "ABX9TyNwo0OLwNCRatzDrCG2fUEV",
      "include_colab_link": true
    },
    "kernelspec": {
      "name": "python3",
      "display_name": "Python 3"
    },
    "language_info": {
      "name": "python"
    }
  },
  "cells": [
    {
      "cell_type": "markdown",
      "metadata": {
        "id": "view-in-github",
        "colab_type": "text"
      },
      "source": [
        "<a href=\"https://colab.research.google.com/github/renatoIFPB/Curso_IA/blob/main/projeto_final.ipynb\" target=\"_parent\"><img src=\"https://colab.research.google.com/assets/colab-badge.svg\" alt=\"Open In Colab\"/></a>"
      ]
    },
    {
      "cell_type": "code",
      "execution_count": null,
      "metadata": {
        "id": "nOCoou4lxpTR"
      },
      "outputs": [],
      "source": [
        "import pandas as pd\n",
        "import random\n",
        "import seaborn as sns\n",
        "from seaborn import load_dataset\n",
        "from sklearn.model_selection import train_test_split\n",
        "from sklearn.preprocessing import LabelEncoder, OneHotEncoder\n",
        "from sklearn.compose import make_column_transformer\n",
        "from sklearn import metrics\n",
        "import matplotlib.pyplot as plt\n",
        "sns.set_theme(style=\"whitegrid\")\n",
        "\n",
        "df = load_dataset('taxis') #Carrega o dataset na variavel df\n",
        "df = df.dropna(how='any',axis=0) #Deleta linhas com valor vazio\n",
        "df = df.drop(['pickup','dropoff'], axis=1) #Deleta as colunas 'pickup', 'dropoff'\n",
        "\n",
        "# column_headers = list(df.columns.values)\n",
        "# print(\"The Column Header :\", column_headers)"
      ]
    },
    {
      "cell_type": "code",
      "source": [
        "pickup_borough_zone = df.groupby([\"pickup_borough\"], as_index=False).agg(\n",
        "    total_pickup_borough = (\"pickup_borough\",\"count\"))\n",
        "\n",
        "pickup_borough_zone\n",
        "\n",
        "sns.barplot(x = \"pickup_borough\", y = \"total_pickup_borough\", data = pickup_borough_zone)"
      ],
      "metadata": {
        "id": "EbYcyRBz0-3f"
      },
      "execution_count": null,
      "outputs": []
    },
    {
      "cell_type": "code",
      "source": [
        "pickup_borough_type_payment = df.groupby([\"payment\"], as_index=False).agg(\n",
        "    total_pickup_borough = (\"pickup_borough\",\"count\"))\n",
        "\n",
        "pickup_borough_type_payment\n",
        "\n",
        "sns.barplot(x = \"payment\", y = \"total_pickup_borough\", data = pickup_borough_type_payment)"
      ],
      "metadata": {
        "id": "kOCu8e0R4GMG"
      },
      "execution_count": null,
      "outputs": []
    },
    {
      "cell_type": "code",
      "source": [
        "pickup_borough_payment = df.groupby([\"payment\"], as_index=False).agg(\n",
        "    total_money = (\"total\",\"sum\"))\n",
        "\n",
        "pickup_borough_payment\n",
        "\n",
        "sns.barplot(x = \"payment\", y = \"total_money\", data = pickup_borough_payment)"
      ],
      "metadata": {
        "id": "4tlp5sIC5Bct"
      },
      "execution_count": null,
      "outputs": []
    },
    {
      "cell_type": "code",
      "source": [
        "labelencoder = LabelEncoder()\n",
        "payment_df = pd.DataFrame(df, columns=['payment'])\n",
        "df['payment'] = labelencoder.fit_transform(payment_df['payment'])\n",
        "\n",
        "labelencoder = LabelEncoder()\n",
        "pickup_zone_df = pd.DataFrame(df, columns=['pickup_zone'])\n",
        "df['pickup_zone'] = labelencoder.fit_transform(pickup_zone_df['pickup_zone'])\n",
        "\n",
        "labelencoder = LabelEncoder()\n",
        "dropoff_zone_df = pd.DataFrame(df, columns=['dropoff_zone'])\n",
        "df['dropoff_zone'] = labelencoder.fit_transform(dropoff_zone_df['dropoff_zone'])\n",
        "\n",
        "column_transformer = make_column_transformer((OneHotEncoder(), ['color', 'pickup_borough', 'dropoff_borough']), remainder='passthrough')\n",
        "df = column_transformer.fit_transform(df)\n",
        "columns_names = column_transformer.get_feature_names_out()\n",
        "df = pd.DataFrame(data=df, columns=columns_names)"
      ],
      "metadata": {
        "id": "MTCcK4bbgNHx"
      },
      "execution_count": 5,
      "outputs": []
    },
    {
      "cell_type": "code",
      "source": [
        "y = df['remainder__payment'] # extrai a primeira coluna, que é o label para a variavel y\n",
        "X = df.drop(['remainder__payment'], axis=1) #deleta a coluna payment e copia o df para a variavel x"
      ],
      "metadata": {
        "id": "6NkYp3km_zj-"
      },
      "execution_count": null,
      "outputs": []
    },
    {
      "cell_type": "code",
      "source": [
        "from sklearn import tree\n",
        "\n",
        "count1=0\n",
        "count2=0\n",
        "for i in range(10): #Loop para executar a divisão dos dados de testes/treino e execução\n",
        "  X_train, X_test, y_train, y_test = train_test_split(X, y, test_size=0.2, random_state=random.randint(1,50000), stratify=y) # 80% treino e 20% teste\n",
        "\n",
        "  model1 = tree.DecisionTreeClassifier()\n",
        "  model2 = tree.DecisionTreeClassifier(criterion=\"log_loss\",splitter=\"random\")\n",
        "\n",
        "  model1 = model1.fit(X_train, y_train)\n",
        "  model2 = model2.fit(X_train, y_train)\n",
        "\n",
        "  result1 = model1.predict(X_test)\n",
        "  result2 = model1.predict(X_test)\n",
        "\n",
        "  acc1 = metrics.accuracy_score(result1, y_test)\n",
        "  acc2 = metrics.accuracy_score(result2, y_test)\n",
        "\n",
        "  count1+=float(acc1 * 100)\n",
        "  count2+=float(acc2 * 100)\n",
        "\n",
        "print('Media:',f'{count1 / 10:.3f}%') #Media das 10 execuções\n",
        "print('Media:',f'{count2 / 10:.3f}%') #Media das 10 execuções"
      ],
      "metadata": {
        "id": "jhuPI5BnalTe"
      },
      "execution_count": null,
      "outputs": []
    },
    {
      "cell_type": "code",
      "source": [
        "from sklearn.neighbors import KNeighborsClassifier\n",
        "\n",
        "count1=0\n",
        "count2=0\n",
        "for i in range(10): #Loop para executar a divisão dos dados de testes/treino e execução\n",
        "  X_train, X_test, y_train, y_test = train_test_split(X, y, test_size=0.2, random_state=random.randint(1,50000), stratify=y) # 80% treino e 20% teste\n",
        "\n",
        "  model1 = KNeighborsClassifier(n_neighbors=11, algorithm='brute')\n",
        "  model2 = KNeighborsClassifier(n_neighbors=3, metric='euclidean', algorithm='auto')\n",
        "\n",
        "  model1.fit(X_train, y_train)\n",
        "  model2.fit(X_train, y_train)\n",
        "\n",
        "  result1 = model1.predict(X_test)\n",
        "  result2 = model2.predict(X_test)\n",
        "\n",
        "  acc1 = metrics.accuracy_score(result1, y_test)\n",
        "  acc2 = metrics.accuracy_score(result2, y_test)\n",
        "\n",
        "  count1+=float(acc1 * 100)\n",
        "  count2+=float(acc2 * 100)\n",
        "\n",
        "print('Media:',f'{count1 / 10:.3f}%') #Media das 10 execuções\n",
        "print('Media:',f'{count2 / 10:.3f}%') #Media das 10 execuções"
      ],
      "metadata": {
        "id": "jcVK9DXNq2rj"
      },
      "execution_count": null,
      "outputs": []
    },
    {
      "cell_type": "code",
      "source": [
        "from sklearn import svm\n",
        "\n",
        "count1=0\n",
        "count2=0\n",
        "for i in range(10): #Loop para executar a divisão dos dados de testes/treino e execução\n",
        "  X_train, X_test, y_train, y_test = train_test_split(X, y, test_size=0.2, random_state=random.randint(1,50000), stratify=y) # 80% treino e 20% teste\n",
        "\n",
        "  model1 = svm.SVC(kernel='linear')\n",
        "  model2 = svm.SVC(kernel='sigmoid', C=2, gamma=\"auto\")\n",
        "\n",
        "  model1.fit(X_train, y_train)\n",
        "  model2.fit(X_train, y_train)\n",
        "\n",
        "  result1 = model1.predict(X_test)\n",
        "  result2 = model2.predict(X_test)\n",
        "\n",
        "  acc1 = metrics.accuracy_score(result1, y_test)\n",
        "  acc2 = metrics.accuracy_score(result2, y_test)\n",
        "\n",
        "  count1+=float(acc1 * 100)\n",
        "  count2+=float(acc2 * 100)\n",
        "\n",
        "print('Media:',f'{count1 / 10:.3f}%') #Media das 10 execuções\n",
        "print('Media:',f'{count2 / 10:.3f}%') #Media das 10 execuções"
      ],
      "metadata": {
        "id": "sL8TETkJt5LD"
      },
      "execution_count": null,
      "outputs": []
    },
    {
      "cell_type": "code",
      "source": [
        "from sklearn.ensemble import RandomForestClassifier, GradientBoostingClassifier\n",
        "\n",
        "count1=0\n",
        "count2=0\n",
        "for i in range(10): #Loop para executar a divisão dos dados de testes/treino e execução\n",
        "  X_train, X_test, y_train, y_test = train_test_split(X, y, test_size=0.2, random_state=random.randint(1,50000), stratify=y) # 80% treino e 20% teste\n",
        "\n",
        "  model1 = RandomForestClassifier(criterion=\"entropy\", max_features=\"log2\", min_samples_split=3)\n",
        "  model2 = GradientBoostingClassifier(loss=\"exponential\", learning_rate=0.5, criterion=\"squared_error\")\n",
        "\n",
        "  model1.fit(X_train, y_train)\n",
        "  model2.fit(X_train, y_train)\n",
        "\n",
        "  result1 = model1.predict(X_test)\n",
        "  result2 = model2.predict(X_test)\n",
        "\n",
        "  acc1 = metrics.accuracy_score(result1, y_test)\n",
        "  acc2 = metrics.accuracy_score(result2, y_test)\n",
        "\n",
        "  count1+=float(acc1 * 100)\n",
        "  count2+=float(acc2 * 100)\n",
        "\n",
        "print('Media:',f'{count1 / 10:.3f}%') #Media das 10 execuções\n",
        "print('Media:',f'{count2 / 10:.3f}%') #Media das 10 execuções"
      ],
      "metadata": {
        "id": "tj8mtEbmH9D2"
      },
      "execution_count": null,
      "outputs": []
    }
  ]
}