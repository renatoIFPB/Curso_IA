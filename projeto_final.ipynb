{
  "nbformat": 4,
  "nbformat_minor": 0,
  "metadata": {
    "colab": {
      "provenance": [],
      "authorship_tag": "ABX9TyMKsvFy+V/37ytVxLL6qZJn",
      "include_colab_link": true
    },
    "kernelspec": {
      "name": "python3",
      "display_name": "Python 3"
    },
    "language_info": {
      "name": "python"
    }
  },
  "cells": [
    {
      "cell_type": "markdown",
      "metadata": {
        "id": "view-in-github",
        "colab_type": "text"
      },
      "source": [
        "<a href=\"https://colab.research.google.com/github/renatoIFPB/Curso_IA/blob/main/projeto_final.ipynb\" target=\"_parent\"><img src=\"https://colab.research.google.com/assets/colab-badge.svg\" alt=\"Open In Colab\"/></a>"
      ]
    },
    {
      "cell_type": "code",
      "execution_count": 36,
      "metadata": {
        "id": "nOCoou4lxpTR"
      },
      "outputs": [],
      "source": [
        "import pandas as pd\n",
        "import random\n",
        "from seaborn import load_dataset\n",
        "from sklearn.model_selection import train_test_split\n",
        "from sklearn.preprocessing import LabelEncoder, OneHotEncoder\n",
        "from sklearn.compose import make_column_transformer\n",
        "from sklearn import metrics\n",
        "\n",
        "df = load_dataset('taxis') #Carrega o dataset na variavel df\n",
        "df = df.dropna(how='any',axis=0) #Deleta linhas com valor vazio\n",
        "df = df.drop(['pickup','dropoff'], axis=1) #Deleta as colunas 'pickup', 'dropoff'\n",
        "\n",
        "# column_headers = list(df.columns.values)\n",
        "# print(\"The Column Header :\", column_headers)"
      ]
    },
    {
      "cell_type": "code",
      "source": [
        "labelencoder = LabelEncoder()\n",
        "payment_df = pd.DataFrame(df, columns=['payment'])\n",
        "df['payment'] = labelencoder.fit_transform(payment_df['payment'])\n",
        "\n",
        "labelencoder = LabelEncoder()\n",
        "pickup_zone_df = pd.DataFrame(df, columns=['pickup_zone'])\n",
        "df['pickup_zone'] = labelencoder.fit_transform(pickup_zone_df['pickup_zone'])\n",
        "\n",
        "labelencoder = LabelEncoder()\n",
        "dropoff_zone_df = pd.DataFrame(df, columns=['dropoff_zone'])\n",
        "df['dropoff_zone'] = labelencoder.fit_transform(dropoff_zone_df['dropoff_zone'])\n",
        "\n",
        "column_transformer = make_column_transformer((OneHotEncoder(), ['color', 'pickup_borough', 'dropoff_borough']), remainder='passthrough')\n",
        "df = column_transformer.fit_transform(df)\n",
        "columns_names = column_transformer.get_feature_names_out()\n",
        "df = pd.DataFrame(data=df, columns=columns_names)"
      ],
      "metadata": {
        "id": "MTCcK4bbgNHx"
      },
      "execution_count": 37,
      "outputs": []
    },
    {
      "cell_type": "code",
      "source": [
        "y = df['remainder__payment'] # extrai a primeira coluna, que é o label para a variavel y\n",
        "X = df.drop(['remainder__payment'], axis=1) #deleta a coluna payment e copia o df para a variavel x"
      ],
      "metadata": {
        "id": "6NkYp3km_zj-"
      },
      "execution_count": 38,
      "outputs": []
    },
    {
      "cell_type": "code",
      "source": [
        "from sklearn import tree\n",
        "\n",
        "count1=0\n",
        "count2=0\n",
        "for i in range(10): #Loop para executar a divisão dos dados de testes/treino e execução\n",
        "  X_train, X_test, y_train, y_test = train_test_split(X, y, test_size=0.2, random_state=random.randint(1,50000), stratify=y) # 80% treino e 20% teste\n",
        "\n",
        "  model1 = tree.DecisionTreeClassifier()\n",
        "  model2 = tree.DecisionTreeClassifier(criterion=\"log_loss\",splitter=\"random\")\n",
        "\n",
        "  model1 = model1.fit(X_train, y_train)\n",
        "  model2 = model2.fit(X_train, y_train)\n",
        "\n",
        "  result1 = model1.predict(X_test)\n",
        "  result2 = model1.predict(X_test)\n",
        "\n",
        "  acc1 = metrics.accuracy_score(result1, y_test)\n",
        "  acc2 = metrics.accuracy_score(result2, y_test)\n",
        "\n",
        "  count1+=float(acc1 * 100)\n",
        "  count2+=float(acc2 * 100)\n",
        "\n",
        "print('Media:',f'{count1 / 10:.3f}%') #Media das 10 execuções\n",
        "print('Media:',f'{count2 / 10:.3f}%') #Media das 10 execuções"
      ],
      "metadata": {
        "id": "jhuPI5BnalTe",
        "colab": {
          "base_uri": "https://localhost:8080/"
        },
        "outputId": "650ecabf-912f-444a-b165-9963758789d0"
      },
      "execution_count": 39,
      "outputs": [
        {
          "output_type": "stream",
          "name": "stdout",
          "text": [
            "Media: 92.065%\n",
            "Media: 92.065%\n"
          ]
        }
      ]
    },
    {
      "cell_type": "code",
      "source": [
        "from sklearn.neighbors import KNeighborsClassifier\n",
        "\n",
        "count1=0\n",
        "count2=0\n",
        "for i in range(10): #Loop para executar a divisão dos dados de testes/treino e execução\n",
        "  X_train, X_test, y_train, y_test = train_test_split(X, y, test_size=0.2, random_state=random.randint(1,50000), stratify=y) # 80% treino e 20% teste\n",
        "\n",
        "  model1 = KNeighborsClassifier(n_neighbors=11, algorithm='brute')\n",
        "  model2 = KNeighborsClassifier(n_neighbors=3, metric='euclidean', algorithm='auto')\n",
        "\n",
        "  model1.fit(X_train, y_train)\n",
        "  model2.fit(X_train, y_train)\n",
        "\n",
        "  result1 = model1.predict(X_test)\n",
        "  result2 = model2.predict(X_test)\n",
        "\n",
        "  acc1 = metrics.accuracy_score(result1, y_test)\n",
        "  acc2 = metrics.accuracy_score(result2, y_test)\n",
        "\n",
        "  count1+=float(acc1 * 100)\n",
        "  count2+=float(acc2 * 100)\n",
        "\n",
        "print('Media:',f'{count1 / 10:.3f}%') #Media das 10 execuções\n",
        "print('Media:',f'{count2 / 10:.3f}%') #Media das 10 execuções"
      ],
      "metadata": {
        "id": "jcVK9DXNq2rj",
        "colab": {
          "base_uri": "https://localhost:8080/"
        },
        "outputId": "3caa159c-be8d-45f0-ce69-50f99732b56d"
      },
      "execution_count": 40,
      "outputs": [
        {
          "output_type": "stream",
          "name": "stdout",
          "text": [
            "Media: 75.106%\n",
            "Media: 77.998%\n"
          ]
        }
      ]
    },
    {
      "cell_type": "code",
      "source": [
        "from sklearn import svm\n",
        "\n",
        "count1=0\n",
        "count2=0\n",
        "for i in range(10): #Loop para executar a divisão dos dados de testes/treino e execução\n",
        "  X_train, X_test, y_train, y_test = train_test_split(X, y, test_size=0.2, random_state=random.randint(1,50000), stratify=y) # 80% treino e 20% teste\n",
        "\n",
        "  model1 = svm.SVC(kernel='linear')\n",
        "  model2 = svm.SVC(kernel='sigmoid', C=2, gamma=\"auto\")\n",
        "\n",
        "  model1.fit(X_train, y_train)\n",
        "  model2.fit(X_train, y_train)\n",
        "\n",
        "  result1 = model1.predict(X_test)\n",
        "  result2 = model2.predict(X_test)\n",
        "\n",
        "  acc1 = metrics.accuracy_score(result1, y_test)\n",
        "  acc2 = metrics.accuracy_score(result2, y_test)\n",
        "\n",
        "  count1+=float(acc1 * 100)\n",
        "  count2+=float(acc2 * 100)\n",
        "\n",
        "print('Media:',f'{count1 / 10:.3f}%') #Media das 10 execuções\n",
        "print('Media:',f'{count2 / 10:.3f}%') #Media das 10 execuções"
      ],
      "metadata": {
        "id": "sL8TETkJt5LD",
        "colab": {
          "base_uri": "https://localhost:8080/"
        },
        "outputId": "ebef8e84-ff67-4ce2-9e48-607db32de16d"
      },
      "execution_count": 41,
      "outputs": [
        {
          "output_type": "stream",
          "name": "stdout",
          "text": [
            "Media: 94.507%\n",
            "Media: 71.710%\n"
          ]
        }
      ]
    },
    {
      "cell_type": "code",
      "source": [
        "from sklearn.ensemble import RandomForestClassifier, GradientBoostingClassifier\n",
        "\n",
        "count1=0\n",
        "count2=0\n",
        "for i in range(10): #Loop para executar a divisão dos dados de testes/treino e execução\n",
        "  X_train, X_test, y_train, y_test = train_test_split(X, y, test_size=0.2, random_state=random.randint(1,50000), stratify=y) # 80% treino e 20% teste\n",
        "\n",
        "  model1 = RandomForestClassifier(criterion=\"entropy\", max_features=\"log2\", min_samples_split=3)\n",
        "  model2 = GradientBoostingClassifier(loss=\"exponential\", learning_rate=0.5, criterion=\"squared_error\")\n",
        "\n",
        "  model1.fit(X_train, y_train)\n",
        "  model2.fit(X_train, y_train)\n",
        "\n",
        "  result1 = model1.predict(X_test)\n",
        "  result2 = model2.predict(X_test)\n",
        "\n",
        "  acc1 = metrics.accuracy_score(result1, y_test)\n",
        "  acc2 = metrics.accuracy_score(result2, y_test)\n",
        "\n",
        "  count1+=float(acc1 * 100)\n",
        "  count2+=float(acc2 * 100)\n",
        "\n",
        "print('Media:',f'{count1 / 10:.3f}%') #Media das 10 execuções\n",
        "print('Media:',f'{count2 / 10:.3f}%') #Media das 10 execuções"
      ],
      "metadata": {
        "id": "tj8mtEbmH9D2",
        "colab": {
          "base_uri": "https://localhost:8080/"
        },
        "outputId": "55c3a853-cb1e-4d09-bfc3-2808721b7ba7"
      },
      "execution_count": 42,
      "outputs": [
        {
          "output_type": "stream",
          "name": "stdout",
          "text": [
            "Media: 95.059%\n",
            "Media: 94.760%\n"
          ]
        }
      ]
    }
  ]
}