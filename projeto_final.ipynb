{
  "nbformat": 4,
  "nbformat_minor": 0,
  "metadata": {
    "colab": {
      "provenance": [],
      "authorship_tag": "ABX9TyMDofwt2dglVkzGikYZNxQR",
      "include_colab_link": true
    },
    "kernelspec": {
      "name": "python3",
      "display_name": "Python 3"
    },
    "language_info": {
      "name": "python"
    }
  },
  "cells": [
    {
      "cell_type": "markdown",
      "metadata": {
        "id": "view-in-github",
        "colab_type": "text"
      },
      "source": [
        "<a href=\"https://colab.research.google.com/github/renatoIFPB/Curso_IA/blob/main/projeto_final.ipynb\" target=\"_parent\"><img src=\"https://colab.research.google.com/assets/colab-badge.svg\" alt=\"Open In Colab\"/></a>"
      ]
    },
    {
      "cell_type": "code",
      "execution_count": 31,
      "metadata": {
        "id": "nOCoou4lxpTR",
        "colab": {
          "base_uri": "https://localhost:8080/"
        },
        "outputId": "2d59a186-6a3c-4877-8d20-1a2a8036e0c0"
      },
      "outputs": [
        {
          "output_type": "stream",
          "name": "stdout",
          "text": [
            "The Column Header : ['pickup', 'dropoff', 'passengers', 'distance', 'fare', 'tip', 'tolls', 'total', 'color', 'payment', 'pickup_zone', 'dropoff_zone', 'pickup_borough', 'dropoff_borough']\n"
          ]
        }
      ],
      "source": [
        "import pandas as pd\n",
        "from seaborn import load_dataset\n",
        "\n",
        "df = load_dataset('taxis')\n",
        "\n",
        "column_headers = list(df.columns.values)\n",
        "#print(\"The Column Header :\", column_headers)"
      ]
    },
    {
      "cell_type": "code",
      "source": [
        "df = df.dropna(how='any',axis=0) #deleta linhas com valor vazio\n",
        "y = df['payment'] # extrai a primeira coluna, que é o label\n",
        "df = df.drop(['payment'], axis=1) #deleta a coluna payment\n",
        "X = df\n",
        "\n",
        "# column_headers = list(df.columns.values); print(\"The Column Header :\", column_headers)"
      ],
      "metadata": {
        "id": "6NkYp3km_zj-",
        "colab": {
          "base_uri": "https://localhost:8080/"
        },
        "outputId": "18aea70c-e574-49d8-c3a5-e80d725b9f50"
      },
      "execution_count": 32,
      "outputs": [
        {
          "output_type": "stream",
          "name": "stdout",
          "text": [
            "The Column Header : ['pickup', 'dropoff', 'passengers', 'distance', 'fare', 'tip', 'tolls', 'total', 'color', 'pickup_zone', 'dropoff_zone', 'pickup_borough', 'dropoff_borough']\n"
          ]
        }
      ]
    },
    {
      "cell_type": "code",
      "source": [],
      "metadata": {
        "colab": {
          "base_uri": "https://localhost:8080/"
        },
        "id": "s9E2dd90BOJG",
        "outputId": "dc7b60c4-8e28-4138-aceb-abbd49e6299e"
      },
      "execution_count": null,
      "outputs": [
        {
          "output_type": "stream",
          "name": "stdout",
          "text": [
            "The Column Header : ['pickup', 'dropoff', 'passengers', 'distance', 'fare', 'tip', 'tolls', 'total', 'color', 'pickup_zone', 'dropoff_zone', 'pickup_borough', 'dropoff_borough']\n"
          ]
        }
      ]
    }
  ]
}