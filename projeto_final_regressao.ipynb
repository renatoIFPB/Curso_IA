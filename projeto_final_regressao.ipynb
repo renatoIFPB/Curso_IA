{
  "nbformat": 4,
  "nbformat_minor": 0,
  "metadata": {
    "colab": {
      "provenance": [],
      "authorship_tag": "ABX9TyM0E+c7tfcL3EvLjPqHFErB",
      "include_colab_link": true
    },
    "kernelspec": {
      "name": "python3",
      "display_name": "Python 3"
    },
    "language_info": {
      "name": "python"
    }
  },
  "cells": [
    {
      "cell_type": "markdown",
      "metadata": {
        "id": "view-in-github",
        "colab_type": "text"
      },
      "source": [
        "<a href=\"https://colab.research.google.com/github/renatoIFPB/Curso_IA/blob/main/projeto_final_regressao.ipynb\" target=\"_parent\"><img src=\"https://colab.research.google.com/assets/colab-badge.svg\" alt=\"Open In Colab\"/></a>"
      ]
    },
    {
      "cell_type": "code",
      "execution_count": 34,
      "metadata": {
        "id": "_Z7vHwZkrux7"
      },
      "outputs": [],
      "source": [
        "import pandas as pd\n",
        "import numpy as np\n",
        "import random\n",
        "from seaborn import load_dataset\n",
        "from sklearn import preprocessing\n",
        "from sklearn.metrics import mean_squared_error, r2_score\n",
        "from sklearn.model_selection import train_test_split\n",
        "from sklearn.compose import make_column_transformer\n",
        "\n",
        "df = load_dataset('taxis') #Carrega o dataset na variavel df\n",
        "df = df.dropna(how='any',axis=0) #Deleta linhas com valor vazio\n",
        "df = df.drop(['pickup', 'dropoff', 'pickup_zone', 'dropoff_zone'], axis=1) #Deleta as colunas 'pickup', 'dropoff', 'pickup_zone', 'dropoff_zone'\n",
        "\n",
        "# column_headers = list(df.columns.values)\n",
        "# print(\"The Column Header :\", column_headers)"
      ]
    },
    {
      "cell_type": "code",
      "source": [
        "from sklearn.preprocessing import LabelEncoder, OneHotEncoder\n",
        "\n",
        "labelencoder = LabelEncoder()\n",
        "payment_df = pd.DataFrame(df, columns=['payment'])\n",
        "df['payment'] = labelencoder.fit_transform(payment_df['payment'])\n",
        "\n",
        "column_transformer = make_column_transformer((OneHotEncoder(), ['color', 'pickup_borough', 'dropoff_borough']), remainder='passthrough')\n",
        "df = column_transformer.fit_transform(df)\n",
        "columns_names = column_transformer.get_feature_names_out()\n",
        "df = pd.DataFrame(data=df, columns=columns_names)"
      ],
      "metadata": {
        "id": "JLagIJ7jsHOo"
      },
      "execution_count": 33,
      "outputs": []
    },
    {
      "cell_type": "code",
      "source": [
        "y = df['remainder__payment'] # extrai a primeira coluna, que é o label para a variavel y\n",
        "X = df.drop(['remainder__payment'], axis=1) #deleta a coluna payment e copia o df para a variavel x\n",
        "\n",
        "df = X.values\n",
        "min_max_scaler = preprocessing.MinMaxScaler()\n",
        "x_scaled = min_max_scaler.fit_transform(df)\n",
        "X = pd.DataFrame(x_scaled)"
      ],
      "metadata": {
        "id": "chI1AFfmsL7t"
      },
      "execution_count": 27,
      "outputs": []
    },
    {
      "cell_type": "code",
      "source": [
        "from sklearn.tree import DecisionTreeRegressor\n",
        "\n",
        "count1=0\n",
        "count2=0\n",
        "for i in range(10): #Loop para executar a divisão dos dados de testes/treino e execução\n",
        "  # X_train, X_test, y_train, y_test = train_test_split(X, y, test_size=0.2, random_state=random.randint(1,50000))\n",
        "  train_data, test_data, train_labels, test_labels = train_test_split(X, y, train_size=0.8, test_size=0.2, random_state=None)\n",
        "\n",
        "  model1 = DecisionTreeRegressor()\n",
        "  model1.fit(train_data, train_labels)\n",
        "\n",
        "  result1 = model1.predict(test_data)\n",
        "  print(mean_squared_error(test_labels, result1))\n",
        "\n",
        "  # acc1 = metrics.accuracy_score(result1, train_labels)\n",
        "\n",
        "  # count1+=float(acc1 * 100)\n",
        "\n",
        "# print('Media',f'{count1 / 10:.3f}') #Media das 10 execuções\n",
        "# print('Media',f'{count2 / 10:.3f}') #Media das 10 execuções"
      ],
      "metadata": {
        "id": "n66a-YggsQs-"
      },
      "execution_count": null,
      "outputs": []
    },
    {
      "cell_type": "code",
      "source": [
        "from sklearn.neighbors import KNeighborsRegressor\n",
        "\n",
        "count1=0\n",
        "count2=0\n",
        "for i in range(10): #Loop para executar a divisão dos dados de testes/treino e execução\n",
        "  # X_train, X_test, y_train, y_test = train_test_split(X, y, test_size=0.2, random_state=random.randint(1,50000))\n",
        "  train_data, test_data, train_labels, test_labels = train_test_split(X, y, train_size=0.8, test_size=0.2, random_state=None)\n",
        "\n",
        "    model3 = KNeighborsRegressor()\n",
        "    model3.fit(train_data, train_labels)\n",
        "\n",
        "    predictions3 = regr3.predict(test_data)\n",
        "    print(mean_squared_error(test_labels, predictions3))"
      ],
      "metadata": {
        "id": "GaVIznlwNC-6"
      },
      "execution_count": null,
      "outputs": []
    }
  ]
}