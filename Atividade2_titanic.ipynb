{
  "nbformat": 4,
  "nbformat_minor": 0,
  "metadata": {
    "colab": {
      "provenance": [],
      "authorship_tag": "ABX9TyP2wt4Wf54WeGPA1Bl0yIop",
      "include_colab_link": true
    },
    "kernelspec": {
      "name": "python3",
      "display_name": "Python 3"
    },
    "language_info": {
      "name": "python"
    }
  },
  "cells": [
    {
      "cell_type": "markdown",
      "metadata": {
        "id": "view-in-github",
        "colab_type": "text"
      },
      "source": [
        "<a href=\"https://colab.research.google.com/github/renatoIFPB/Curso_IA/blob/main/Atividade2_titanic.ipynb\" target=\"_parent\"><img src=\"https://colab.research.google.com/assets/colab-badge.svg\" alt=\"Open In Colab\"/></a>"
      ]
    },
    {
      "cell_type": "code",
      "execution_count": null,
      "metadata": {
        "id": "bRrsAriGh0MJ"
      },
      "outputs": [],
      "source": [
        "import pandas as pd\n",
        "from seaborn import load_dataset\n",
        "\n",
        "# Carregar base de dados\n",
        "df = load_dataset('titanic')"
      ]
    },
    {
      "cell_type": "code",
      "source": [
        "df = df.drop(\"deck\", axis='columns')\n",
        "df = df.drop(\"class\", axis='columns')\n",
        "df = df.drop(\"alive\", axis='columns')\n",
        "df = df.dropna()"
      ],
      "metadata": {
        "id": "UYQNkcQPkBee"
      },
      "execution_count": null,
      "outputs": []
    },
    {
      "cell_type": "code",
      "source": [
        "from sklearn.preprocessing import OneHotEncoder\n",
        "from sklearn.compose import make_column_transformer\n",
        "\n",
        "column_transformer = make_column_transformer((OneHotEncoder(), ['sex','embarked','who','adult_male','embark_town','alone']), remainder='passthrough')\n",
        "\n",
        "df = column_transformer.fit_transform(df)\n",
        "\n",
        "df = pd.DataFrame(data=df)"
      ],
      "metadata": {
        "id": "HA6IUq8elU9_"
      },
      "execution_count": null,
      "outputs": []
    },
    {
      "cell_type": "code",
      "source": [
        "from sklearn import preprocessing\n",
        "\n",
        "label_encoder = preprocessing.LabelEncoder()\n",
        "\n",
        "df[0]= label_encoder.fit_transform(df[0])"
      ],
      "metadata": {
        "id": "wvwRoUMfr0Ql"
      },
      "execution_count": null,
      "outputs": []
    },
    {
      "cell_type": "code",
      "source": [
        "y = df[0]\n",
        "\n",
        "X = df.drop(0,axis=1)"
      ],
      "metadata": {
        "id": "D6a0sl1mt4QB"
      },
      "execution_count": null,
      "outputs": []
    },
    {
      "cell_type": "code",
      "source": [
        "from sklearn.model_selection import train_test_split\n",
        "\n",
        "X_train, X_test, y_train, y_test = train_test_split(X, y, test_size=0.2, random_state=None, stratify=y) # 80% treino e 20% teste"
      ],
      "metadata": {
        "id": "7ea3bjzruGGB"
      },
      "execution_count": null,
      "outputs": []
    },
    {
      "cell_type": "code",
      "source": [
        "from sklearn.neighbors import KNeighborsClassifier\n",
        "from sklearn.tree import DecisionTreeClassifier\n",
        "\n",
        "model1 = DecisionTreeClassifier(criterion=\"entropy\")\n",
        "model2 = DecisionTreeClassifier()\n",
        "model3 = KNeighborsClassifier(n_neighbors=3, metric='euclidean', algorithm='brute')\n",
        "model4 = KNeighborsClassifier(n_neighbors=7, metric='euclidean', algorithm='brute')\n",
        "\n",
        "model1.fit(X_train, y_train)\n",
        "model2.fit(X_train, y_train)\n",
        "model3.fit(X_train, y_train)\n",
        "model4.fit(X_train, y_train)"
      ],
      "metadata": {
        "id": "R5clm2BUuPrd"
      },
      "execution_count": null,
      "outputs": []
    },
    {
      "cell_type": "code",
      "source": [
        "from sklearn import metrics\n",
        "\n",
        "result1 = model1.predict(X_test)\n",
        "result2 = model2.predict(X_test)\n",
        "result3 = model3.predict(X_test)\n",
        "result4 = model4.predict(X_test)\n",
        "\n",
        "acc1 = metrics.accuracy_score(result1, y_test)\n",
        "show1 = round(acc1 * 100)\n",
        "print(\"{}%\".format(show1))\n",
        "\n",
        "acc2 = metrics.accuracy_score(result2, y_test)\n",
        "show2 = round(acc2 * 100)\n",
        "print(\"{}%\".format(show2))\n",
        "\n",
        "acc3 = metrics.accuracy_score(result3, y_test)\n",
        "show3 = round(acc3 * 100)\n",
        "print(\"{}%\".format(show3))\n",
        "\n",
        "acc4 = metrics.accuracy_score(result4, y_test)\n",
        "show4 = round(acc4 * 100)\n",
        "print(\"{}%\".format(show4))"
      ],
      "metadata": {
        "id": "cjqzw8mYuknw"
      },
      "execution_count": null,
      "outputs": []
    }
  ]
}