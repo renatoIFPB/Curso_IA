{
  "nbformat": 4,
  "nbformat_minor": 0,
  "metadata": {
    "colab": {
      "provenance": [],
      "authorship_tag": "ABX9TyNLS/AoguR7HIYVntUpTTv6",
      "include_colab_link": true
    },
    "kernelspec": {
      "name": "python3",
      "display_name": "Python 3"
    },
    "language_info": {
      "name": "python"
    }
  },
  "cells": [
    {
      "cell_type": "markdown",
      "metadata": {
        "id": "view-in-github",
        "colab_type": "text"
      },
      "source": [
        "<a href=\"https://colab.research.google.com/github/renatoIFPB/Curso_IA/blob/main/atividade_regressao_e_logistica.ipynb\" target=\"_parent\"><img src=\"https://colab.research.google.com/assets/colab-badge.svg\" alt=\"Open In Colab\"/></a>"
      ]
    },
    {
      "cell_type": "code",
      "execution_count": null,
      "metadata": {
        "id": "Jv2EZ_tnMS1w"
      },
      "outputs": [],
      "source": [
        "## Exercício 1 - Dataset \"car_crashes\" do seaborn\n",
        "\n",
        "# 1) Carregar o dataset \"car_crashes\"do seaborn\n",
        "# 2) Dropar a coluna \"abbrev\"\n",
        "# 3) Separar o dataframe, deixando a coluna 'total' para o target (coluna objetivo - y) e o restante para o X\n",
        "# 4) Normalizar todo o X\n",
        "\n",
        "# df = X.values\n",
        "# min_max_scaler = preprocessing.MinMaxScaler()\n",
        "# x_scaled = min_max_scaler.fit_transform(df)\n",
        "# X = pd.DataFrame(x_scaled)\n",
        "\n",
        "# 5) Separar os dados em treinamento e teste\n",
        "# 6) Treinar um modelo linear\n",
        "# 7) Treinar uma árvores de regressão\n",
        "# 8) Treinar um KNN para regressão\n",
        "# 9) Apresentar os resultados dos erros usando: MSE, MAE e RMSE para os 3 modelos"
      ]
    },
    {
      "cell_type": "code",
      "source": [
        "import seaborn\n",
        "from sklearn import datasets\n",
        "\n",
        "# 1) Carregar o dataset \"car_crashes\"do seaborn\n",
        "data = seaborn.load_dataset(\"car_crashes\")\n",
        "\n",
        "# 2) Dropar a coluna \"abbrev\"\n",
        "data = data.drop(['abbrev'],axis=1)\n"
      ],
      "metadata": {
        "id": "jz5Im7_kMk5z"
      },
      "execution_count": null,
      "outputs": []
    },
    {
      "cell_type": "code",
      "source": [
        "# 3) Separar o dataframe, deixando a coluna 'total' para o target (coluna objetivo - y) e o restante para o X\n",
        "y = data['total'].copy()\n",
        "X = data.iloc[:,1:6].copy()"
      ],
      "metadata": {
        "id": "ISGwEsImNA8m"
      },
      "execution_count": null,
      "outputs": []
    },
    {
      "cell_type": "code",
      "source": [
        "from sklearn.preprocessing import MinMaxScaler\n",
        "import numpy as np\n",
        "\n",
        "# 4) Normalizar todo o X\n",
        "X['speeding'] = MinMaxScaler().fit_transform(np.array(X['speeding']).reshape(-1,1))\n",
        "X['alcohol'] = MinMaxScaler().fit_transform(np.array(X['alcohol']).reshape(-1,1))\n",
        "X['not_distracted'] = MinMaxScaler().fit_transform(np.array(X['not_distracted']).reshape(-1,1))\n",
        "X['no_previous'] = MinMaxScaler().fit_transform(np.array(X['no_previous']).reshape(-1,1))\n",
        "X['ins_premium'] = MinMaxScaler().fit_transform(np.array(X['ins_premium']).reshape(-1,1))"
      ],
      "metadata": {
        "id": "nqZjfFnFNr-b"
      },
      "execution_count": null,
      "outputs": []
    },
    {
      "cell_type": "code",
      "source": [
        "from sklearn.model_selection import train_test_split\n",
        "\n",
        "# 5) Separar os dados em treinamento e teste\n",
        "res = train_test_split(X, y, train_size=0.8, test_size=0.2, random_state=None)\n",
        "train_data, test_data, train_labels, test_labels = res"
      ],
      "metadata": {
        "id": "sE1OeOwkOPzl"
      },
      "execution_count": null,
      "outputs": []
    },
    {
      "cell_type": "code",
      "source": [
        "from sklearn import datasets, linear_model\n",
        "from sklearn.metrics import mean_squared_error\n",
        "\n",
        "# 6) Treinar um modelo linear\n",
        "regr1 = linear_model.LinearRegression()\n",
        "regr1.fit(train_data, train_labels)\n",
        "\n",
        "predictions1 = regr1.predict(test_data)\n",
        "print(mean_squared_error(test_labels, predictions1))"
      ],
      "metadata": {
        "colab": {
          "base_uri": "https://localhost:8080/"
        },
        "id": "yWmJg5GgOcPi",
        "outputId": "26788c6b-6e27-45da-b01a-7f64326c32c3"
      },
      "execution_count": null,
      "outputs": [
        {
          "output_type": "stream",
          "name": "stdout",
          "text": [
            "1.8153103274826856\n"
          ]
        }
      ]
    },
    {
      "cell_type": "code",
      "source": [
        "from sklearn.tree import DecisionTreeRegressor\n",
        "\n",
        "# 7) Treinar uma árvores de regressão\n",
        "regr2 = DecisionTreeRegressor()\n",
        "regr2.fit(train_data, train_labels)\n",
        "\n",
        "predictions2 = regr2.predict(test_data)\n",
        "print(mean_squared_error(test_labels, predictions2))"
      ],
      "metadata": {
        "colab": {
          "base_uri": "https://localhost:8080/"
        },
        "id": "MF3oU0SIOj4R",
        "outputId": "2808469b-428a-4862-a93b-eb5951293dad"
      },
      "execution_count": null,
      "outputs": [
        {
          "output_type": "stream",
          "name": "stdout",
          "text": [
            "3.3209090909090886\n"
          ]
        }
      ]
    },
    {
      "cell_type": "code",
      "source": [
        "from sklearn.neighbors import KNeighborsRegressor\n",
        "\n",
        "# 8) Treinar um KNN para regressão\n",
        "regr3 = KNeighborsRegressor()\n",
        "regr3.fit(train_data, train_labels)\n",
        "\n",
        "predictions3 = regr3.predict(test_data)\n",
        "print(mean_squared_error(test_labels, predictions3))"
      ],
      "metadata": {
        "colab": {
          "base_uri": "https://localhost:8080/"
        },
        "id": "WeQGbH8BO4os",
        "outputId": "ef1e3626-16b4-4125-8310-28afe884fd7e"
      },
      "execution_count": null,
      "outputs": [
        {
          "output_type": "stream",
          "name": "stdout",
          "text": [
            "7.174145454545452\n"
          ]
        }
      ]
    },
    {
      "cell_type": "code",
      "source": [
        "## Exercício 2 - Dataset Parkinsons (dataset com 2 classes)\n",
        "\n",
        "# 1) Carregar o dataset \"parkinsons\" pela URL abaixo:\n",
        "\n",
        "# url = \"https://raw.githubusercontent.com/tmoura/machinelearning/master/parkinsons.data\"\n",
        "\n",
        "# 2) Separar os dados y e X. A coluna y é a coluna 0 (zero)\n",
        "# 3) Normalizar todas as colunas de X (usando o mesmo código da questão anterior)\n",
        "# 4) Separar oa dados em treinamento e teste\n",
        "# 5) Treinar um modelo de regressão logística\n",
        "# 6) Treinar uma árvore de decisão\n",
        "# 7) Treinar um KNN para classificação\n",
        "# 8) Apresentar os resultados de acurácia em percentual"
      ],
      "metadata": {
        "id": "LieuYTLbQjj1"
      },
      "execution_count": null,
      "outputs": []
    },
    {
      "cell_type": "code",
      "source": [
        "import pandas as pd\n",
        "\n",
        "# 1) Carregar o dataset \"parkinsons\" pela URL abaixo:\n",
        "url = \"https://raw.githubusercontent.com/tmoura/machinelearning/master/parkinsons.data\"\n",
        "dataset = pd.read_csv(url, header=None)\n",
        "columns = len(dataset.columns)\n",
        "\n",
        "# 2) Separar os dados y e X. A coluna y é a coluna 0 (zero)\n",
        "y = dataset[0]\n",
        "X = dataset.loc[:,1:columns-1]"
      ],
      "metadata": {
        "id": "DbgK458TQk7n"
      },
      "execution_count": null,
      "outputs": []
    },
    {
      "cell_type": "code",
      "source": [
        "from sklearn import preprocessing\n",
        "\n",
        "# 3) Normalizar todas as colunas de X (usando o mesmo código da questão anterior)\n",
        "x2 = X.values\n",
        "min_max_scaler = preprocessing.MinMaxScaler()\n",
        "x_scaled = min_max_scaler.fit_transform(x2)\n",
        "df = pd.DataFrame(x_scaled)"
      ],
      "metadata": {
        "id": "zqK7z-7PQlyf"
      },
      "execution_count": null,
      "outputs": []
    },
    {
      "cell_type": "code",
      "source": [
        "from sklearn.model_selection import train_test_split\n",
        "\n",
        "# 4) Separar oa dados em treinamento e teste\n",
        "X_train, X_test, y_train, y_test = train_test_split(df, y, test_size=0.2, random_state=None, stratify=y)\n"
      ],
      "metadata": {
        "id": "rRmG9uCtQmDp"
      },
      "execution_count": null,
      "outputs": []
    },
    {
      "cell_type": "code",
      "source": [
        "# 5) Treinar um modelo de regressão logística\n",
        "from sklearn.linear_model import LogisticRegression\n",
        "from sklearn import metrics\n",
        "\n",
        "model = LogisticRegression()\n",
        "model.fit(X_train, y_train)\n",
        "\n",
        "result = model.predict(X_test)\n",
        "acc = metrics.accuracy_score(result, y_test)\n",
        "show = round(acc * 100)\n",
        "print(\"{}%\".format(show))\n",
        "\n",
        "# 6) Treinar uma árvore de decisão\n",
        "from sklearn.tree import DecisionTreeClassifier\n",
        "\n",
        "model2 = DecisionTreeClassifier()\n",
        "model2.fit(X_train, y_train)\n",
        "\n",
        "result2 = model2.predict(X_test)\n",
        "acc2 = metrics.accuracy_score(result2, y_test)\n",
        "show2 = round(acc2 * 100)\n",
        "print(\"{}%\".format(show2))\n",
        "\n",
        "# 7) Treinar um KNN para classificação\n",
        "from sklearn.neighbors import KNeighborsClassifier\n",
        "\n",
        "model3 = KNeighborsClassifier()\n",
        "model3.fit(X_train, y_train)\n",
        "\n",
        "result3 = model3.predict(X_test)\n",
        "acc3 = metrics.accuracy_score(result3, y_test)\n",
        "show3 = round(acc3 * 100)\n",
        "print(\"{}%\".format(show3))"
      ],
      "metadata": {
        "colab": {
          "base_uri": "https://localhost:8080/"
        },
        "id": "sLdmYQSAQmTi",
        "outputId": "f50cd9d4-5b8d-450f-9338-814ddb4f26bf"
      },
      "execution_count": null,
      "outputs": [
        {
          "output_type": "stream",
          "name": "stdout",
          "text": [
            "87%\n",
            "90%\n",
            "92%\n"
          ]
        }
      ]
    },
    {
      "cell_type": "code",
      "source": [
        "## Exercício 3 - Dataset attention do seaborn\n",
        "\n",
        "# 1) Carregar o dataset \"attention\" do seaborn\n",
        "# 2) Fazer um LabelEncoder na coluna \"attention\"\n",
        "# 3) Separar o dataframe, deixando a coluna 'attention' para o target (coluna objetivo - y) e as colunas \"solutions\" e \"score\" para o X\n",
        "# 4) Normalizar todo o X usando o mesmo código da questão 1\n",
        "# 5) Separar os dados em treinamento e teste\n",
        "# 6) Treinar um modelo de regressão logística\n",
        "# 7) Treinar uma árvore de decisão\n",
        "# 8) Treinar um KNN para classificação\n",
        "# 9) Apresentar os resultados de acurárica em percentual"
      ],
      "metadata": {
        "id": "xb_QaoI-Qmte"
      },
      "execution_count": null,
      "outputs": []
    },
    {
      "cell_type": "code",
      "source": [
        "import seaborn as sns\n",
        "from sklearn import preprocessing\n",
        "\n",
        "# 1) Carregar o dataset \"attention\" do seaborn\n",
        "data = sns.load_dataset(\"attention\")\n",
        "\n",
        "# 2) Fazer um LabelEncoder na coluna \"attention\"\n",
        "label_encoder = preprocessing.LabelEncoder()\n",
        "data['attention']= label_encoder.fit_transform(data['attention'])"
      ],
      "metadata": {
        "id": "EJ9fcNPaSFWV"
      },
      "execution_count": null,
      "outputs": []
    },
    {
      "cell_type": "code",
      "source": [
        "# 3) Separar o dataframe, deixando a coluna 'attention' para o target (coluna objetivo - y) e as colunas \"solutions\" e \"score\" para o X\n",
        "y = data[\"attention\"]\n",
        "X = data[[\"solutions\",\"score\"]]\n",
        "\n",
        "# 4) Normalizar todo o X usando o mesmo código da questão 1\n",
        "import pandas as pd\n",
        "\n",
        "x2 = X.values\n",
        "min_max_scaler = preprocessing.MinMaxScaler()\n",
        "x_scaled = min_max_scaler.fit_transform(x2)\n",
        "X = pd.DataFrame(x_scaled)"
      ],
      "metadata": {
        "id": "eNWnVw6mSFN4"
      },
      "execution_count": null,
      "outputs": []
    },
    {
      "cell_type": "code",
      "source": [
        "from sklearn.model_selection import train_test_split\n",
        "\n",
        "# 5) Separar os dados em treinamento e teste\n",
        "X_train, X_test, y_train, y_test = train_test_split(X, y, test_size=0.2, random_state=None, stratify=y)"
      ],
      "metadata": {
        "id": "LKlzl513SFJZ"
      },
      "execution_count": null,
      "outputs": []
    },
    {
      "cell_type": "code",
      "source": [
        "# 6) Treinar um modelo de regressão logística\n",
        "from sklearn.linear_model import LogisticRegression\n",
        "\n",
        "model = LogisticRegression()\n",
        "model.fit(X_train, y_train)\n",
        "\n",
        "result = model.predict(X_test)\n",
        "acc = metrics.accuracy_score(result, y_test)\n",
        "show = round(acc * 100)\n",
        "print(\"{}%\".format(show))\n",
        "\n",
        "# 7) Treinar uma árvore de decisão\n",
        "from sklearn.tree import DecisionTreeClassifier\n",
        "\n",
        "model2 = DecisionTreeClassifier()\n",
        "model2.fit(X_train, y_train)\n",
        "\n",
        "result2 = model2.predict(X_test)\n",
        "acc2 = metrics.accuracy_score(result2, y_test)\n",
        "show2 = round(acc2 * 100)\n",
        "print(\"{}%\".format(show2))\n",
        "\n",
        "# 8) Treinar um KNN para classificação\n",
        "from sklearn.neighbors import KNeighborsClassifier\n",
        "\n",
        "model3 = KNeighborsClassifier()\n",
        "model3.fit(X_train, y_train)\n",
        "\n",
        "result3 = model3.predict(X_test)\n",
        "acc3 = metrics.accuracy_score(result3, y_test)\n",
        "show3 = round(acc3 * 100)\n",
        "print(\"{}%\".format(show3))"
      ],
      "metadata": {
        "colab": {
          "base_uri": "https://localhost:8080/"
        },
        "id": "_kYQwAZLSFFR",
        "outputId": "938558d9-f8d6-4d6a-8ed4-10d3d19642e0"
      },
      "execution_count": null,
      "outputs": [
        {
          "output_type": "stream",
          "name": "stdout",
          "text": [
            "50%\n",
            "58%\n",
            "58%\n"
          ]
        }
      ]
    }
  ]
}